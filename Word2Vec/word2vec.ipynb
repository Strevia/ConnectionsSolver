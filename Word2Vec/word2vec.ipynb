{
 "cells": [
  {
   "cell_type": "code",
   "execution_count": null,
   "metadata": {},
   "outputs": [],
   "source": [
    "import gensim.downloader as api\n",
    "\n"
   ]
  },
  {
   "cell_type": "code",
   "execution_count": null,
   "metadata": {},
   "outputs": [],
   "source": [
    "model = api.load(\"word2vec-google-news-300\")"
   ]
  },
  {
   "cell_type": "code",
   "execution_count": null,
   "metadata": {},
   "outputs": [],
   "source": [
    "words = []\n",
    "with open(\"2024-02-08.txt\") as f:\n",
    "    for line in f:\n",
    "        words.append(line.strip())\n",
    "print(words)"
   ]
  },
  {
   "cell_type": "code",
   "execution_count": null,
   "metadata": {},
   "outputs": [],
   "source": [
    "import itertools\n",
    "results = {}\n",
    "for four_words in itertools.combinations(words, 4):\n",
    "    mini = 1\n",
    "    for two_words in itertools.combinations(four_words, 2):\n",
    "        distance = model.distance(two_words[0], two_words[1])\n",
    "        mini = min(mini, distance)\n",
    "    results[four_words] = float(mini)\n",
    "results = dict(sorted(results.items(), key=lambda item: -item[1]))\n",
    "print(results)"
   ]
  },
  {
   "cell_type": "code",
   "execution_count": null,
   "metadata": {},
   "outputs": [],
   "source": [
    "onesLeft = results.copy()\n",
    "oneAway = False\n",
    "while len(onesLeft) > 0:\n",
    "    current_words = list(onesLeft.keys())[0]\n",
    "    output = input(f\"Output from {current_words}: \")\n",
    "    toDelete = []\n",
    "    if output == \"w\":\n",
    "        for key in onesLeft:\n",
    "            if len(set(current_words).intersection(key)) >= 3:\n",
    "                toDelete.append(key)\n",
    "    elif output == \"r\":\n",
    "        if oneAway:\n",
    "            oneAway = False\n",
    "            onesLeft = oldLeft.copy()\n",
    "        for key in onesLeft:\n",
    "            if len(set(current_words).intersection(key)) > 0:\n",
    "                toDelete.append(key)\n",
    "    elif output == \"o\":\n",
    "        if not oneAway:\n",
    "            oldLeft = onesLeft.copy()\n",
    "        oneAway = True\n",
    "        for key in onesLeft:\n",
    "            if len(set(current_words).intersection(key)) != 3:\n",
    "                toDelete.append(key)\n",
    "    for delete in toDelete:\n",
    "        del onesLeft[delete]"
   ]
  }
 ],
 "metadata": {
  "kernelspec": {
   "display_name": "Python 3",
   "language": "python",
   "name": "python3"
  },
  "language_info": {
   "codemirror_mode": {
    "name": "ipython",
    "version": 3
   },
   "file_extension": ".py",
   "mimetype": "text/x-python",
   "name": "python",
   "nbconvert_exporter": "python",
   "pygments_lexer": "ipython3",
   "version": "3.10.12"
  }
 },
 "nbformat": 4,
 "nbformat_minor": 2
}
